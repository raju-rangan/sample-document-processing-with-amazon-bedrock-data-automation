{
 "cells": [
  {
   "cell_type": "markdown",
   "id": "30c014be-715c-4d02-b8a0-bbded2352750",
   "metadata": {},
   "source": [
    "# How Bedrock Data Automation works\n",
    "\n",
    "Bedrock Data Automation (BDA) lets you configure output based on your processing needs for a specific data type: documents, images, video or audio. BDA can generate standard output or custom output. Below are some key concepts for understanding how BDA works. If you're a new user, start with the information about standard output.\n",
    "\n",
    "* **Standard output** – Sending a file to BDA with no other information returns the default standard output, which consists of commonly required information that's based on the data type. Examples include audio transcriptions, scene summaries for video, and document summaries. These outputs can be tuned to your use case using projects to modify them. For more information, see e.g. [Standard output for documents in Bedrock Data Automation](https://docs.aws.amazon.com/bedrock/latest/userguide/bda-output-documents.html).\n",
    "\n",
    "* **Custom output** – For documents and images, only. Choose custom output to define exactly what information you want to extract using a blueprint. A blueprint consists of a list of expected fields that you want retrieved from a document or image. Each field represents a piece of information that needs to be extracted to meet your specific use case. You can create your own blueprints, or select predefined blueprints from the BDA blueprint catalog. For more information, see [Custom output and blueprints](https://docs.aws.amazon.com/bedrock/latest/userguide/bda-custom-output-idp.html).\n",
    "\n",
    "* **Projects** – A project is a BDA resource that allows you to modify and organize output configurations. Each project can contain standard output configurations for documents, images, video, and audio, as well as custom output blueprints for documents and images. Projects are referenced in the `InvokeDataAutomationAsync` API call to instruct BDA on how to process the files. For more information about projects and their use cases, see [Bedrock Data Automation projects](https://docs.aws.amazon.com/bedrock/latest/userguide/bda-projects.html).\n",
    "\n",
    "In this notebook, we see will see how we can get started with using BDA API for your document processing use cases. The Amazon Bedrock Data Automation (BDA) feature provides a streamlined API workflow for processing your data. For all modalities, this workflow consists of three main steps: creating a project, invoking the analysis, and retrieving the results. To retrieve custom output for your processed data, you provide the Blueprint ARN when you invoke the analysis operation."
   ]
  },
  {
   "cell_type": "markdown",
   "id": "444c3287-fb3e-4da9-9d37-728456ac52fe",
   "metadata": {
    "editable": true,
    "slideshow": {
     "slide_type": ""
    },
    "tags": []
   },
   "source": [
    "## Prerequisites"
   ]
  },
  {
   "cell_type": "markdown",
   "id": "1264708d-a57e-4e71-89f5-3090dbf73972",
   "metadata": {},
   "source": [
    "### Configure IAM Permissions\n",
    "\n",
    "The features being explored in the workshop require multiple IAM Policies for the role being used. If you're running this notebook within SageMaker Studio in your own Account, update the default execution role for the SageMaker user profile to include the IAM policies described in [README.md](../README.md)."
   ]
  },
  {
   "cell_type": "markdown",
   "id": "6c12476d-7970-46cf-9488-7bc1dc1ca6ad",
   "metadata": {},
   "source": [
    "### Install Required Libraries"
   ]
  },
  {
   "cell_type": "code",
   "execution_count": null,
   "id": "1fd8ca60-b430-4047-88fa-1a5189ec57aa",
   "metadata": {
    "editable": true,
    "slideshow": {
     "slide_type": ""
    },
    "tags": []
   },
   "outputs": [],
   "source": [
    "%pip install --no-warn-conflicts \"boto3>=1.37.6\" itables==2.2.4 PyPDF2==3.0.1 --upgrade -q"
   ]
  },
  {
   "cell_type": "code",
   "execution_count": null,
   "id": "58746522-d462-486a-a2b9-2b57dec72f84",
   "metadata": {},
   "outputs": [],
   "source": [
    "from utils.helper_functions import restart_kernel\n",
    "restart_kernel()"
   ]
  },
  {
   "cell_type": "code",
   "execution_count": null,
   "id": "aaf88a7d-9164-49f8-a83e-402600e4297a",
   "metadata": {
    "editable": true,
    "slideshow": {
     "slide_type": ""
    },
    "tags": []
   },
   "outputs": [],
   "source": [
    "%load_ext autoreload\n",
    "%autoreload 2"
   ]
  },
  {
   "cell_type": "markdown",
   "id": "77914217-a4b8-4220-9dd4-4382a1695f87",
   "metadata": {
    "editable": true,
    "slideshow": {
     "slide_type": ""
    },
    "tags": []
   },
   "source": [
    "### Setup\n",
    "\n",
    "Before we get to the part where we invoke BDA with our sample artifacts, let's setup some parameters and configuration that will be used throughout this notebook"
   ]
  },
  {
   "cell_type": "code",
   "execution_count": null,
   "id": "9c9bf70d-ae3b-4988-bbd7-4e544675dcbd",
   "metadata": {
    "editable": true,
    "slideshow": {
     "slide_type": ""
    },
    "tags": []
   },
   "outputs": [],
   "source": [
    "import boto3\n",
    "import json\n",
    "from IPython.display import JSON, IFrame\n",
    "import sagemaker\n",
    "from utils.helper_functions import read_s3_object, wait_for_job_to_complete, get_bucket_and_key\n",
    "from pathlib import Path\n",
    "import os\n",
    "\n",
    "session = sagemaker.Session()\n",
    "default_bucket = session.default_bucket()\n",
    "current_region = boto3.session.Session().region_name\n",
    "\n",
    "sts_client = boto3.client('sts')\n",
    "account_id = sts_client.get_caller_identity()['Account']\n",
    "\n",
    "# Initialize Bedrock Data Automation client\n",
    "bda_client = boto3.client('bedrock-data-automation')\n",
    "bda_runtime_client = boto3.client('bedrock-data-automation-runtime')\n",
    "s3_client = boto3.client('s3')\n",
    "\n",
    "bda_s3_input_location = f's3://{default_bucket}/bda/input'\n",
    "bda_s3_output_location = f's3://{default_bucket}/bda/output'\n",
    "\n",
    "print(f\"My BDA output s3 URI: {bda_s3_output_location}\")"
   ]
  },
  {
   "cell_type": "markdown",
   "id": "fc838291-b380-442c-9342-e0f1c399527b",
   "metadata": {
    "editable": true,
    "slideshow": {
     "slide_type": ""
    },
    "tags": []
   },
   "source": [
    "## Prepare sample document\n",
    "For this lab, we use a sample `Bank Statement` for Fiscal Year 2025 through November 30, 2024. The document is prepared by the Bureau of the Fiscal Service, Department of the Treasury and provides detailed information on the government's financial activities. We will extract a subset of pages from the `PDF` document and use BDA to extract and analyse the document content.\n",
    "\n",
    "### Download and store sample document\n",
    "we use the document url to download the document and store it a S3 location. \n",
    "\n",
    "Note - We will configure BDA to use the sample input from this S3 location, so we need to ensure that BDA has `s3:GetObject` access to this S3 location. If you are running the notebook in your own AWS Account, ensure that the SageMaker Execution role configured for this JupyterLab app has the right IAM permissions."
   ]
  },
  {
   "cell_type": "code",
   "execution_count": null,
   "id": "a7e877eb-dcf7-4ce0-bc55-2b75af452a3b",
   "metadata": {
    "editable": true,
    "slideshow": {
     "slide_type": ""
    },
    "tags": []
   },
   "outputs": [],
   "source": [
    "local_download_path = \"data/documents/\"\n",
    "local_file_name = \"BankStatement.jpg\"\n",
    "file_path_local = f\"{local_download_path}/{local_file_name}\"\n",
    "os.makedirs(local_download_path, exist_ok=True)\n",
    "\n",
    "# Download Sample file\n",
    "#(bucket, key) = get_bucket_and_key(document_url)\n",
    "#response = s3_client.download_file(bucket, key, file_path_local)\n",
    "\n",
    "# Upload the document to S3\n",
    "document_s3_uri = f'{bda_s3_input_location}/{local_file_name}'\n",
    "\n",
    "target_s3_bucket, target_s3_key = get_bucket_and_key(document_s3_uri)\n",
    "s3_client.upload_file(file_path_local, target_s3_bucket, target_s3_key)\n",
    "\n",
    "print(f\"Downloaded file to: {file_path_local}\")\n",
    "print(f\"Uploaded file to S3: {target_s3_key}\")\n",
    "print(f\"document_s3_uri: {document_s3_uri}\")"
   ]
  },
  {
   "cell_type": "markdown",
   "id": "24270477-69c5-4f4c-b171-3dde759f2068",
   "metadata": {
    "editable": true,
    "slideshow": {
     "slide_type": ""
    },
    "tags": []
   },
   "source": [
    "### View Sample Document"
   ]
  },
  {
   "cell_type": "code",
   "execution_count": null,
   "id": "08521fcf-c8bc-413f-bc9d-b3a93e6be0da",
   "metadata": {
    "editable": true,
    "slideshow": {
     "slide_type": ""
    },
    "tags": []
   },
   "outputs": [],
   "source": [
    "IFrame(file_path_local, width=600, height=400)"
   ]
  },
  {
   "cell_type": "markdown",
   "id": "ff2ef08f-2d3f-441b-8325-edbf98b90089",
   "metadata": {},
   "source": [
    "## Using BDA for standard output\n",
    "\n",
    "Sending e.g. a document to BDA with no other information using the [`InvokeDataAutomationAsync` API](https://boto3.amazonaws.com/v1/documentation/api/latest/reference/services/bedrock-data-automation-runtime/client/invoke_data_automation_async.html) looks as follows:\n",
    "\n",
    "BDA will process the file provided in `inputConfiguration` and write the output to the s3 URI of `outputConfiguration`.\n",
    "\n",
    "```python\n",
    "response = bda_runtime_client.invoke_data_automation_async(\n",
    "    inputConfiguration={\n",
    "        's3Uri': 's3://bedrock-data-automation-prod-assets-us-west-2/demo-assets/Document/BankStatement.jpg'\n",
    "    },\n",
    "    outputConfiguration={\n",
    "        's3Uri': 's3://my_output'\n",
    "    },\n",
    ")\n",
    "```"
   ]
  },
  {
   "cell_type": "markdown",
   "id": "9f3232db-8ed2-4ef6-921c-c2a8165f30db",
   "metadata": {},
   "source": [
    "### Invoking BDA for standard output"
   ]
  },
  {
   "cell_type": "code",
   "execution_count": null,
   "id": "e9199ffd-2889-4632-a683-b1d3d914ae91",
   "metadata": {},
   "outputs": [],
   "source": [
    "response = bda_runtime_client.invoke_data_automation_async(\n",
    "    inputConfiguration={        \n",
    "        's3Uri': document_s3_uri\n",
    "    },\n",
    "    outputConfiguration={'s3Uri': f'{bda_s3_output_location}'},\n",
    "    dataAutomationProfileArn = f'arn:aws:bedrock:{current_region}:{account_id}:data-automation-profile/us.data-automation-v1',\n",
    "    dataAutomationConfiguration = {\n",
    "        'dataAutomationProjectArn': f'arn:aws:bedrock:{current_region}:aws:data-automation-project/public-default',\n",
    "    }\n",
    ")\n",
    "JSON(response)"
   ]
  },
  {
   "cell_type": "markdown",
   "id": "bbfe5bc6-2e59-46fc-8f90-a22281622eb1",
   "metadata": {},
   "source": [
    "### Get data automation job status"
   ]
  },
  {
   "cell_type": "code",
   "execution_count": null,
   "id": "d0cd06e2-6b32-4648-9495-1735f560f6ba",
   "metadata": {},
   "outputs": [],
   "source": [
    "status_response = wait_for_job_to_complete(invocationArn=response[\"invocationArn\"])\n",
    "JSON(status_response)"
   ]
  },
  {
   "cell_type": "markdown",
   "id": "d9b52698-02dc-4440-95d2-2b1b5c18f37e",
   "metadata": {},
   "source": [
    "### Retrieve job metadata"
   ]
  },
  {
   "cell_type": "code",
   "execution_count": null,
   "id": "08e051a1-118e-4f5a-ac94-5a983b8add0e",
   "metadata": {},
   "outputs": [],
   "source": [
    "job_metadata_s3 = status_response[\"outputConfiguration\"][\"s3Uri\"]\n",
    "print(f\"Retrieving job metadata: {job_metadata_s3}\")\n",
    "job_metadata = json.loads(read_s3_object(job_metadata_s3))\n",
    "\n",
    "JSON(job_metadata,root='job_metadata',expanded=True)"
   ]
  },
  {
   "cell_type": "markdown",
   "id": "b67cd4f5-4574-4545-b6c9-7cff198e2c82",
   "metadata": {},
   "source": [
    "### Get job results for standard output\n",
    "\n",
    "The standard output will contain the following fields\n",
    "\n",
    "* metadata: simple document metadata like location and number of pages\n",
    "* document: Contains document statistics on number of elements, tables, and figures\n",
    "* pages: Contains markdown version of each page\n",
    "* elements: Contains details and references to Text blocks, figures, tables, charts, etc.\n",
    "\n",
    "Note that the standard output can configured to contain much more information about the document structure, or descriptions of figures, charts, etc. We will explore this in the next notebook"
   ]
  },
  {
   "cell_type": "code",
   "execution_count": null,
   "id": "34c15055-4cdf-4830-bb31-b801c8f95e3d",
   "metadata": {},
   "outputs": [],
   "source": [
    "standard_output_path = job_metadata[\"output_metadata\"][0][\"segment_metadata\"][0][\"standard_output_path\"]\n",
    "print(f\"Receiving the jobs results from: {standard_output_path}\")\n",
    "standard_output = json.loads(read_s3_object(standard_output_path))\n",
    "JSON(standard_output, root=\"standard_output\")"
   ]
  },
  {
   "cell_type": "markdown",
   "id": "53177bdf-c172-4879-bfa6-8fff323e7a97",
   "metadata": {},
   "source": [
    "## Using BDA for custom outputs with blueprints\n",
    "\n",
    "We can also provide a list of blueprints to be used when invoking BDA through the `InvokeDataAutomationAsync` API.\n",
    "BDA will match the document against the blueprints and extract or derive structured insights based on the blueprint definitions.\n",
    "\n",
    "We will see follow up notebooks how this works in more detail. Here we provide just a high level overview how it can be used, for example in `us-east-1` region.\n",
    "\n",
    "```python\n",
    "response = bda_runtime_client.invoke_data_automation_async(\n",
    "    inputConfiguration={\n",
    "        's3Uri': 's3://bedrock-data-automation-prod-assets-us-east-1/demo-assets/Document/BankStatement.jpg'\n",
    "    },\n",
    "    outputConfiguration={\n",
    "        's3Uri': 's3://my_output'\n",
    "    },\n",
    "    dataAutomationProfileArn = f'arn:aws:bedrock:{current_region}:{account_id}:data-automation-profile/us.data-automation-v1',\n",
    "    blueprints=[\n",
    "    {\n",
    "        'blueprintArn': 'arn:aws:bedrock:us-east-1:aws:blueprint/bedrock-data-automation-public-bank-statement',     \n",
    "    },\n",
    "]\n",
    ")\n",
    "```"
   ]
  },
  {
   "cell_type": "markdown",
   "id": "75c9a2cf-0796-4482-aa30-0dbb63409d02",
   "metadata": {},
   "source": [
    "## Using projects with custom output and standard output\n",
    "\n",
    "A data automation project allows to bundle multiple configurations together, to be consumed as a single unit.\n",
    "It allows in particular to\n",
    "\n",
    "* extend the standard output by defining the granularity and types insights using `standardOutputConfiguration`\n",
    "* define a list of blueprints using `customOutputConfiguration`\n",
    "* activate document splitting using `overrideConfiguration`\n"
   ]
  },
  {
   "cell_type": "markdown",
   "id": "f6234dcc-7201-439a-a963-ccb945064810",
   "metadata": {},
   "source": [
    "### Creating a data automation project\n",
    "\n",
    "The follow preview shows how we can create a data automation project using the boto3 client.\n",
    "\n",
    "```python\n",
    "import boto3\n",
    "\n",
    "client = boto3.client('bedrock-data-automation')\n",
    "response = bda_runtime_client.create_data_automation_project(\n",
    "    projectName='my name',\n",
    "    projectDescription='my description',\n",
    "    projectStage='LIVE',\n",
    "    standardOutputConfiguration={\n",
    "        \"document\": {\n",
    "            \"extraction\": {\n",
    "              \"granularity\": {\"types\": [\"DOCUMENT\",\"PAGE\", \"ELEMENT\",\"LINE\",\"WORD\"]},\n",
    "              \"boundingBox\": {\"state\": \"ENABLED\"}\n",
    "            },\n",
    "            \"generativeField\": {\"state\": \"ENABLED\"},\n",
    "            \"outputFormat\": {\n",
    "                \"textFormat\": {\"types\": [\"PLAIN_TEXT\", \"MARKDOWN\", \"HTML\", \"CSV\"]},\n",
    "                \"additionalFileFormat\": {\"state\": \"ENABLED\"}\n",
    "                }\n",
    "        },\n",
    "        \"image\": {...},\n",
    "        \"video\": {...},\n",
    "        \"audio\": {...}\n",
    "        },\n",
    "    customOutputConfiguration={\n",
    "        'blueprints': [\n",
    "            {\n",
    "                'blueprintArn': 'arn:aws:bedrock:us-west-2:aws:blueprint/bedrock-data-automation-public-bank-statement'                \n",
    "            },\n",
    "        ]\n",
    "    },\n",
    "    overrideConfiguration={\n",
    "        'document': {\n",
    "            'splitter': {\n",
    "                'state': 'ENABLED'\n",
    "            }\n",
    "        }\n",
    "    },\n",
    ")\n",
    "```"
   ]
  },
  {
   "cell_type": "markdown",
   "id": "ee5ed930-26a1-4a2a-b3f7-defebef0856b",
   "metadata": {},
   "source": [
    "### Invoking a data automation project\n",
    "\n",
    "We can now invoke a data automation project with an input file using the `InvokeDataAutomationAsync` API and by providing the previously created project ARN.\n",
    "\n",
    "```python\n",
    "response = bda_runtime_client.invoke_data_automation_async(\n",
    "    inputConfiguration={\n",
    "        's3Uri': 's3://bedrock-data-automation-prod-assets-us-west-2/demo-assets/Document/BankStatement.jpg'\n",
    "    },\n",
    "    outputConfiguration={\n",
    "        's3Uri': 's3://my_output'\n",
    "    },\n",
    "    dataAutomationConfiguration={\n",
    "        'dataAutomationArn': 'arn:aws:bedrock:us-west-2:123456789101:data-automation-project/0644799db368',\n",
    "    }\n",
    ")\n",
    "```"
   ]
  },
  {
   "cell_type": "markdown",
   "id": "f0be67fa-1743-4860-82ec-f97317bfe56c",
   "metadata": {},
   "source": [
    "In the next modules we will explore these approaches in more detail."
   ]
  }
 ],
 "metadata": {
  "kernelspec": {
   "display_name": "Python 3 (ipykernel)",
   "language": "python",
   "name": "python3"
  },
  "language_info": {
   "codemirror_mode": {
    "name": "ipython",
    "version": 3
   },
   "file_extension": ".py",
   "mimetype": "text/x-python",
   "name": "python",
   "nbconvert_exporter": "python",
   "pygments_lexer": "ipython3",
   "version": "3.11.10"
  }
 },
 "nbformat": 4,
 "nbformat_minor": 5
}
